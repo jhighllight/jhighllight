{
  "nbformat": 4,
  "nbformat_minor": 0,
  "metadata": {
    "colab": {
      "provenance": []
    },
    "kernelspec": {
      "name": "python3",
      "display_name": "Python 3"
    },
    "language_info": {
      "name": "python"
    }
  },
  "cells": [
    {
      "cell_type": "code",
      "execution_count": 1,
      "metadata": {
        "id": "FET9rhiDs50l"
      },
      "outputs": [],
      "source": [
        "# 필요한 라이브러리 임포트\n",
        "import tensorflow as tf\n",
        "from tensorflow.keras import layers, models\n",
        "import matplotlib.pyplot as plt"
      ]
    },
    {
      "cell_type": "code",
      "source": [
        "# CIFAR-10 데이터셋 로드\n",
        "(train_images, train_labels), (test_images, test_labels) = tf.keras.datasets.cifar10.load_data()\n",
        "\n",
        "# 데이터 정규화\n",
        "train_images, test_images = train_images / 255.0, test_images / 255.0"
      ],
      "metadata": {
        "colab": {
          "base_uri": "https://localhost:8080/"
        },
        "id": "KjFtxeqYs8SI",
        "outputId": "e12e3f6b-96c5-4ca0-f886-2c71fd71c703"
      },
      "execution_count": 2,
      "outputs": [
        {
          "output_type": "stream",
          "name": "stdout",
          "text": [
            "Downloading data from https://www.cs.toronto.edu/~kriz/cifar-10-python.tar.gz\n",
            "170498071/170498071 [==============================] - 3s 0us/step\n"
          ]
        }
      ]
    },
    {
      "cell_type": "code",
      "source": [
        "# 모델 구축\n",
        "model = models.Sequential()\n",
        "model.add(layers.Conv2D(32, (3, 3), activation='relu', input_shape=(32, 32, 3)))\n",
        "model.add(layers.MaxPooling2D((2, 2)))\n",
        "model.add(layers.Conv2D(64, (3, 3), activation='relu'))\n",
        "model.add(layers.MaxPooling2D((2, 2)))\n",
        "model.add(layers.Conv2D(64, (3, 3), activation='relu'))\n",
        "\n",
        "# 데이터를 평탄화하고 완전 연결 레이어를 추가\n",
        "model.add(layers.Flatten())\n",
        "model.add(layers.Dense(64, activation='relu'))\n",
        "model.add(layers.Dense(10))"
      ],
      "metadata": {
        "id": "KokBT4zGs-p8"
      },
      "execution_count": 3,
      "outputs": []
    },
    {
      "cell_type": "code",
      "source": [
        "# 모델 컴파일\n",
        "model.compile(optimizer='adam',\n",
        "              loss=tf.keras.losses.SparseCategoricalCrossentropy(from_logits=True),\n",
        "              metrics=['accuracy'])\n",
        "\n",
        "# 모델 훈련\n",
        "history = model.fit(train_images, train_labels, epochs=10,\n",
        "                    validation_data=(test_images, test_labels))"
      ],
      "metadata": {
        "colab": {
          "base_uri": "https://localhost:8080/"
        },
        "id": "WAiQlTRMtDVL",
        "outputId": "be144058-0ee2-4797-87e0-cb1f72b7f105"
      },
      "execution_count": 4,
      "outputs": [
        {
          "output_type": "stream",
          "name": "stdout",
          "text": [
            "Epoch 1/10\n",
            "1563/1563 [==============================] - 66s 42ms/step - loss: 1.5466 - accuracy: 0.4347 - val_loss: 1.2698 - val_accuracy: 0.5457\n",
            "Epoch 2/10\n",
            "1563/1563 [==============================] - 65s 41ms/step - loss: 1.1745 - accuracy: 0.5823 - val_loss: 1.0750 - val_accuracy: 0.6182\n",
            "Epoch 3/10\n",
            "1563/1563 [==============================] - 63s 40ms/step - loss: 1.0077 - accuracy: 0.6470 - val_loss: 0.9800 - val_accuracy: 0.6565\n",
            "Epoch 4/10\n",
            "1563/1563 [==============================] - 63s 41ms/step - loss: 0.9057 - accuracy: 0.6819 - val_loss: 0.9240 - val_accuracy: 0.6787\n",
            "Epoch 5/10\n",
            "1563/1563 [==============================] - 63s 41ms/step - loss: 0.8340 - accuracy: 0.7076 - val_loss: 0.8971 - val_accuracy: 0.6913\n",
            "Epoch 6/10\n",
            "1563/1563 [==============================] - 68s 43ms/step - loss: 0.7825 - accuracy: 0.7248 - val_loss: 0.8768 - val_accuracy: 0.7007\n",
            "Epoch 7/10\n",
            "1563/1563 [==============================] - 63s 40ms/step - loss: 0.7343 - accuracy: 0.7430 - val_loss: 0.8719 - val_accuracy: 0.7016\n",
            "Epoch 8/10\n",
            "1563/1563 [==============================] - 64s 41ms/step - loss: 0.6967 - accuracy: 0.7553 - val_loss: 0.8551 - val_accuracy: 0.7152\n",
            "Epoch 9/10\n",
            "1563/1563 [==============================] - 63s 40ms/step - loss: 0.6575 - accuracy: 0.7681 - val_loss: 0.8830 - val_accuracy: 0.7009\n",
            "Epoch 10/10\n",
            "1563/1563 [==============================] - 63s 41ms/step - loss: 0.6320 - accuracy: 0.7766 - val_loss: 0.8286 - val_accuracy: 0.7237\n"
          ]
        }
      ]
    },
    {
      "cell_type": "code",
      "source": [
        "# 모델 평가\n",
        "test_loss, test_acc = model.evaluate(test_images,  test_labels, verbose=2)\n",
        "print('\\nTest accuracy:', test_acc)"
      ],
      "metadata": {
        "colab": {
          "base_uri": "https://localhost:8080/"
        },
        "id": "CpqD7HGGtFjr",
        "outputId": "b4a3c428-68a9-4ce9-9186-823fcc3ff2e0"
      },
      "execution_count": 5,
      "outputs": [
        {
          "output_type": "stream",
          "name": "stdout",
          "text": [
            "313/313 - 4s - loss: 0.8286 - accuracy: 0.7237 - 4s/epoch - 14ms/step\n",
            "\n",
            "Test accuracy: 0.7236999869346619\n"
          ]
        }
      ]
    }
  ]
}