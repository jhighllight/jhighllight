{
  "nbformat": 4,
  "nbformat_minor": 0,
  "metadata": {
    "colab": {
      "provenance": []
    },
    "kernelspec": {
      "name": "python3",
      "display_name": "Python 3"
    },
    "language_info": {
      "name": "python"
    }
  },
  "cells": [
    {
      "cell_type": "code",
      "execution_count": 5,
      "metadata": {
        "colab": {
          "base_uri": "https://localhost:8080/"
        },
        "id": "xPP-LAeO05Qt",
        "outputId": "ee426410-aa08-48b8-f40d-c4938ce4eb5a"
      },
      "outputs": [
        {
          "output_type": "stream",
          "name": "stdout",
          "text": [
            "F-value: 0.2846402987653746\n",
            "P-value: 0.9999999999999999\n"
          ]
        }
      ],
      "source": [
        "import pandas as pd\n",
        "import scipy.stats as stats\n",
        "\n",
        "df = pd.read_csv('/content/category_avg_sales_detailed.csv')\n",
        "\n",
        "f_value, p_value = stats.f_oneway(*[group[\"Quantity\"].values for _, group in df.groupby(\"ProductNo\")])\n",
        "print(\"F-value:\", f_value)\n",
        "print(\"P-value:\", p_value)"
      ]
    }
  ]
}