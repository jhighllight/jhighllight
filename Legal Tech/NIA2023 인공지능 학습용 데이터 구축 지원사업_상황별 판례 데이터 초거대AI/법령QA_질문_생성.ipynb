{
  "nbformat": 4,
  "nbformat_minor": 0,
  "metadata": {
    "colab": {
      "provenance": []
    },
    "kernelspec": {
      "name": "python3",
      "display_name": "Python 3"
    },
    "language_info": {
      "name": "python"
    }
  },
  "cells": [
    {
      "cell_type": "code",
      "execution_count": 3,
      "metadata": {
        "colab": {
          "base_uri": "https://localhost:8080/"
        },
        "id": "673kDDFw1j5f",
        "outputId": "26d2df1c-2b12-4547-b1c8-d74704dd2427"
      },
      "outputs": [
        {
          "output_type": "stream",
          "name": "stdout",
          "text": [
            "install: missing destination file operand after 'openai'\n",
            "Try 'install --help' for more information.\n",
            "질문 1: 1. 경찰공무원은 왜 운전 중인 운전자를 호흡조사로 측정할 수 있는 권한이 있는 건가요?\n",
            "질문 2: 2. 호흡조사로 술에 취한 상태를 확인하는 것 외에, 경찰은 또 어떤 방법으로 운전자가 술에 취했음을 확인할 수 있나요?\n",
            "질문 3: 3. 운전자가 호흡조사에 응하지 않으면 어떤 처벌을 받을 수 있을까요?\n"
          ]
        }
      ],
      "source": [
        "!install openai\n",
        "from openai import OpenAI\n",
        "\n",
        "# OpenAI 클라이언트 초기화\n",
        "client = OpenAI(\n",
        "    api_key=\"...\",  # 여기에 실제 API 키를 입력하세요.\n",
        ")\n",
        "\n",
        "def generate_korean_legal_questions(context, num_questions=5):\n",
        "    \"\"\"\n",
        "    한국 법률 컨텍스트에 기반하여 질문을 생성하는 함수입니다.\n",
        "\n",
        "    :param context: 한국 법률과 관련된 컨텍스트 또는 주제\n",
        "    :param num_questions: 생성할 질문의 수\n",
        "    :return: 생성된 질문 목록\n",
        "    \"\"\"\n",
        "    try:\n",
        "        prompt = f\"다음은 한국 법률과 관련된 주제입니다: '{context}'. 이 주제에 대한 {num_questions}개의 질문을 생성하세요.\"\n",
        "\n",
        "        response = client.chat.completions.create(\n",
        "            messages=[\n",
        "                {\n",
        "                    \"role\": \"system\",\n",
        "                    \"content\": prompt,\n",
        "                }\n",
        "            ],\n",
        "            model=\"gpt-3.5-turbo\",  # 사용할 모델 지정\n",
        "        )\n",
        "\n",
        "        # 모델의 응답에서 질문 추출\n",
        "        generated_text = response.choices[0].message.content\n",
        "        questions = generated_text.split('\\n')\n",
        "\n",
        "        # 지정된 수의 질문만 반환\n",
        "        return questions[:num_questions]\n",
        "    except Exception as e:\n",
        "        print(f\"오류 발생: {e}\")\n",
        "        return []\n",
        "\n",
        "# 사용 예시\n",
        "context = \"｢도로교통법｣ 제44조 제2항은, 경찰공무원은 교통의 안전과 위험방지를 위하여 필요하다고 인정하거나 제1항을 위반하여 술에 취한 상태에서 자동차등을 운전하였다고 인정할 만한 상당한 이유가 있는 경우에는 운전자가 술에 취하였는지를 호흡조사로 측정할 수 있다. 이 경우 운전자는 경찰공무원의 측정에 응하여야 한다.고 규정하고 있습니다. \"\n",
        "questions = generate_korean_legal_questions(context, num_questions=3)\n",
        "for i, question in enumerate(questions, 1):\n",
        "    print(f\"질문 {i}: {question}\")"
      ]
    }
  ]
}