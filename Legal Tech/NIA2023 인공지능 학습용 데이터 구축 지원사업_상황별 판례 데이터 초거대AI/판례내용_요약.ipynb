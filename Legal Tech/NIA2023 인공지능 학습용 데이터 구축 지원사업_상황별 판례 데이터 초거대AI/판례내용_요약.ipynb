{
  "nbformat": 4,
  "nbformat_minor": 0,
  "metadata": {
    "colab": {
      "provenance": []
    },
    "kernelspec": {
      "name": "python3",
      "display_name": "Python 3"
    },
    "language_info": {
      "name": "python"
    }
  },
  "cells": [
    {
      "cell_type": "code",
      "execution_count": 2,
      "metadata": {
        "colab": {
          "base_uri": "https://localhost:8080/"
        },
        "id": "ngJAz2dQ6S9d",
        "outputId": "f3e0e21c-7827-43c0-ca84-122bf6e5c13c"
      },
      "outputs": [
        {
          "output_type": "stream",
          "name": "stdout",
          "text": [
            "Requirement already satisfied: openai in /usr/local/lib/python3.10/dist-packages (1.2.4)\n",
            "Requirement already satisfied: anyio<4,>=3.5.0 in /usr/local/lib/python3.10/dist-packages (from openai) (3.7.1)\n",
            "Requirement already satisfied: distro<2,>=1.7.0 in /usr/lib/python3/dist-packages (from openai) (1.7.0)\n",
            "Requirement already satisfied: httpx<1,>=0.23.0 in /usr/local/lib/python3.10/dist-packages (from openai) (0.25.1)\n",
            "Requirement already satisfied: pydantic<3,>=1.9.0 in /usr/local/lib/python3.10/dist-packages (from openai) (1.10.13)\n",
            "Requirement already satisfied: tqdm>4 in /usr/local/lib/python3.10/dist-packages (from openai) (4.66.1)\n",
            "Requirement already satisfied: typing-extensions<5,>=4.5 in /usr/local/lib/python3.10/dist-packages (from openai) (4.5.0)\n",
            "Requirement already satisfied: idna>=2.8 in /usr/local/lib/python3.10/dist-packages (from anyio<4,>=3.5.0->openai) (3.4)\n",
            "Requirement already satisfied: sniffio>=1.1 in /usr/local/lib/python3.10/dist-packages (from anyio<4,>=3.5.0->openai) (1.3.0)\n",
            "Requirement already satisfied: exceptiongroup in /usr/local/lib/python3.10/dist-packages (from anyio<4,>=3.5.0->openai) (1.1.3)\n",
            "Requirement already satisfied: certifi in /usr/local/lib/python3.10/dist-packages (from httpx<1,>=0.23.0->openai) (2023.7.22)\n",
            "Requirement already satisfied: httpcore in /usr/local/lib/python3.10/dist-packages (from httpx<1,>=0.23.0->openai) (1.0.2)\n",
            "Requirement already satisfied: h11<0.15,>=0.13 in /usr/local/lib/python3.10/dist-packages (from httpcore->httpx<1,>=0.23.0->openai) (0.14.0)\n",
            "요약: 원고는 해당 기업이 노동조합을 조직하고자 했으나, 피고인인 기업 소속의 직원인 원고가 이에 반대하는 행동을 하였다고 주장하고 있었다. 하지만 상하금등 합법한 지불방식과는 별도로 원고에게 특별한 부당 처리가 되지 않았다는 판결이 내려진 것이다. 따라서 판결은 \"상고를 기각한다.\" 로 이어진다. 다만 결론부분의 판결이 이유 1, 2, 3을 단순히 열거하는 형태를 띈다. 그래서 판결자가 인지하였던 사안을 이해하기 위해서는 완전한 판결문 전문을 읽어 보아야 할 필요성이 있다.\n"
          ]
        }
      ],
      "source": [
        "!pip install openai\n",
        "from openai import OpenAI\n",
        "\n",
        "# OpenAI 클라이언트 초기화\n",
        "client = OpenAI(\n",
        "    api_key=\"...\",  # 여기에 실제 API 키를 입력하세요.\n",
        ")\n",
        "\n",
        "def summarize_case_law(case_text):\n",
        "    \"\"\"\n",
        "    주어진 판례 내용을 요약하는 함수입니다.\n",
        "\n",
        "    :param case_text: 요약할 판례의 전문 또는 주요 내용\n",
        "    :return: 요약된 내용\n",
        "    \"\"\"\n",
        "    try:\n",
        "        prompt = f\"다음은 한 판례의 내용입니다:\\n\\n{case_text}\\n\\n이 판례를 요약해 주세요.\"\n",
        "\n",
        "        response = client.chat.completions.create(\n",
        "            messages=[\n",
        "                {\n",
        "                    \"role\": \"system\",\n",
        "                    \"content\": prompt,\n",
        "                }\n",
        "            ],\n",
        "            model=\"gpt-3.5-turbo\",  # 사용할 모델 지정\n",
        "        )\n",
        "\n",
        "        # 모델의 응답 반환\n",
        "        return response.choices[0].message.content\n",
        "    except Exception as e:\n",
        "        print(f\"오류 발생: {e}\")\n",
        "        return None\n",
        "\n",
        "# 사용 예시\n",
        "case_text = \"【전문】피고인】 피고인 상고인】 검사【원심판결】 서울남부지법 2006. 9. 29. 선고 2005노1714 판결【주문】상고를 기각한다.【이유】상고이유를 본다. 1. 각 전보 및 해고에 관한 상고이유에 대하여 근로자에 대하여 불이익처분을 할 수 있는 사유가 존재하고 당시 사정으로 보아 사용자가 당해 불이익처분을 할 만한 정당한 이유가 있다고 판단한 것이 무리가 아니었다고 인정되는 경우에는 설사 그 불이익처분이 사법절차에서 정당한 이유가 없는 것으로 인정되어 무효로 된다고 하더라도 그와 같은 사유만으로 곧바로 구 근로기준법(2007. 1. 26. 법률 제8293호로 개정되기 전의 것) 제110조, 제30조 제1항에 의한 형사처벌의 대상이 된다고 할 수는 없고, 여기에서 나아가 그와 같은 불이익처분이 그 내용에 있어 그 권한을 남용하거나 또는 그 범위를 벗어난 것으로 인정되고 또 이것이 사회통념상 가벌성이 있는 것으로 평가되는 경우에 한하여 형사처벌의 대상이 된다( 대법원 1994. 6. 14. 선고 93도3128 판결, 대법원 2008. 1. 24. 선고 2007도6861 판결등 참조). 또한,사용자가 근로자에 대하여 해고 등 불이익처분을 함에 있어서 표면상으로 내세우는 불이익처분 사유와는 달리 실질적으로는 근로자의 정당한 노동조합활동을 이유로 불이익처분을 한 것으로 인정되는 경우에는 구 노동조합 및 노동관계조정법(2006. 12. 30. 법률 제8158호로 개정되기 전의 것) 제81조 제1호가 정한 부당노동행위라고 보아야 할 것이지만, 불이익처분을 할 당시 실제로 그 처분사유가 존재하였고 당시 사정으로 보아 사용자가 당해 불이익처분을 할 만한 정당한 이유가 있다고 판단한 것이 무리가 아니었다고 인정되는 경우에는 그 불이익처분이 같은 법 제90조, 제81조 제1호의 형사처벌 대상이 되는 부당노동행위에 해당한다고 단정하기는 어려울 것이다. 원심은 피고인이 한 공소외 1에 대한 해고와 공소외 2, 공소외 3, 공소외 4, 공소외 5에 대한 2003. 11. 1.자의 각 전직 및 공소외 4, 공소외 5에 대한 각 해고는 정당한 이유 없이 노동조합활동을 하였다는 것을 이유로 한 것으로 각각 부당 전직, 부당 해고 및 부당노동행위에 해당한다는 공소사실에 대하여 범죄의 증명이 없거나 부족하다는 이유로 무죄를 선고하였는바, 원심이 인정한 바와 같이 피고인이 위 각 전직 및 해고처분을 할 당시 그러한 불이익처분을 할 사유가 존재하였고 당시의 제반 사정에 비추어 피고인이 그러한 불이익처분을 할 만한 정당한 사유가 있다고 판단한 것이 무리가 아니었던 것으로 보인다고 한다면, 그와 같은 행위를 구 근로기준법 및 구 노동조합 및 노동관계조정법 위반으로 형사처벌할 수 없다고 한 원심의 판단은 위 법리에 비추어 수긍이 가고, 거기에 상고이유에서 지적하는 채증법칙 위배나 부당 전직, 부당 해고 및 부당노동행위에 관한 법리오해의 위법이 있다고 보기는 어렵다. 2. 노동조합의 조직·운영의 지배·개입에 관한 상고이유에 대하여 원심은, 피고인이 2003. 10. 23. 회사 홈페이지에 글을 게시하고, 2003. 10. 30. 노동조합이나 조합원들에 대해 폭언 등을 하여, 2003. 11. 3.부터 2003. 11. 8.까지 조합원으로부터 노동조합탈퇴서를 받아 이를 노동조합에 제출하는 등으로 노동조합의 조직·운영을 지배·개입하였다는 공소사실에 대하여 범죄의 증명이 없음을 이유로 무죄를 선고하였는바, 원심의 인정과 판단은 기록에 나타난 여러 사정에 비추어 수긍할 수 있고, 거기에 상고이유에서 지적하는 채증법칙의 위배나 부당노동행위에 관한 법리오해의 위법이 없다. 3. 결 론 그러므로 상고를 기각하기로 하여 관여 대법관의 일치된 의견으로 주문과 같이 판결한다. 대법관   고현철(재판장) 김지형 전수안(주심) 차한성\"\n",
        "summary = summarize_case_law(case_text)\n",
        "print(f\"요약: {summary}\")"
      ]
    }
  ]
}