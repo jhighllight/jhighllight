{
  "nbformat": 4,
  "nbformat_minor": 0,
  "metadata": {
    "colab": {
      "provenance": [],
      "gpuType": "T4"
    },
    "kernelspec": {
      "name": "python3",
      "display_name": "Python 3"
    },
    "language_info": {
      "name": "python"
    },
    "accelerator": "GPU"
  },
  "cells": [
    {
      "cell_type": "code",
      "source": [
        "!pip install openai\n",
        "from openai import OpenAI\n",
        "\n",
        "# OpenAI 클라이언트 초기화\n",
        "client = OpenAI(\n",
        "    api_key=\"...\",  # 여기에 실제 API 키를 입력하세요.\n",
        ")\n",
        "\n",
        "def answer_korean_legal_question(question):\n",
        "    \"\"\"\n",
        "    한국 법률에 기반한 질문에 대한 답변을 생성하는 함수입니다.\n",
        "\n",
        "    :param question: 한국 법률과 관련된 질문\n",
        "    :return: 생성된 답변\n",
        "    \"\"\"\n",
        "    try:\n",
        "        # 질문을 모델에 전달\n",
        "        chat_completion = client.chat.completions.create(\n",
        "            messages=[\n",
        "                {\n",
        "                    \"role\": \"user\",\n",
        "                    \"content\": question,\n",
        "                }\n",
        "            ],\n",
        "            model=\"gpt-3.5-turbo\",  # 사용할 모델 지정\n",
        "        )\n",
        "\n",
        "        # 모델의 응답 반환\n",
        "        return chat_completion.choices[0].message.content\n",
        "    except Exception as e:\n",
        "        print(f\"오류 발생: {e}\")\n",
        "        return None\n",
        "\n",
        "# 사용 예시\n",
        "question = \"운전자가 호흡조사에 응하지 않으면 어떤 처벌을 받을 수 있을까요?\"\n",
        "answer = answer_korean_legal_question(question)\n",
        "print(f\"질문: {question}\\n답변: {answer}\")"
      ],
      "metadata": {
        "colab": {
          "base_uri": "https://localhost:8080/"
        },
        "id": "j5dp5tPv0l4C",
        "outputId": "a27a29c9-805a-4f7b-96c2-47f9a60b49a8"
      },
      "execution_count": 50,
      "outputs": [
        {
          "output_type": "stream",
          "name": "stdout",
          "text": [
            "Requirement already satisfied: openai in /usr/local/lib/python3.10/dist-packages (0.28.0)\n",
            "Requirement already satisfied: requests>=2.20 in /usr/local/lib/python3.10/dist-packages (from openai) (2.31.0)\n",
            "Requirement already satisfied: tqdm in /usr/local/lib/python3.10/dist-packages (from openai) (4.66.1)\n",
            "Requirement already satisfied: aiohttp in /usr/local/lib/python3.10/dist-packages (from openai) (3.8.6)\n",
            "Requirement already satisfied: charset-normalizer<4,>=2 in /usr/local/lib/python3.10/dist-packages (from requests>=2.20->openai) (3.3.2)\n",
            "Requirement already satisfied: idna<4,>=2.5 in /usr/local/lib/python3.10/dist-packages (from requests>=2.20->openai) (3.4)\n",
            "Requirement already satisfied: urllib3<3,>=1.21.1 in /usr/local/lib/python3.10/dist-packages (from requests>=2.20->openai) (2.0.7)\n",
            "Requirement already satisfied: certifi>=2017.4.17 in /usr/local/lib/python3.10/dist-packages (from requests>=2.20->openai) (2023.7.22)\n",
            "Requirement already satisfied: attrs>=17.3.0 in /usr/local/lib/python3.10/dist-packages (from aiohttp->openai) (23.1.0)\n",
            "Requirement already satisfied: multidict<7.0,>=4.5 in /usr/local/lib/python3.10/dist-packages (from aiohttp->openai) (6.0.4)\n",
            "Requirement already satisfied: async-timeout<5.0,>=4.0.0a3 in /usr/local/lib/python3.10/dist-packages (from aiohttp->openai) (4.0.3)\n",
            "Requirement already satisfied: yarl<2.0,>=1.0 in /usr/local/lib/python3.10/dist-packages (from aiohttp->openai) (1.9.2)\n",
            "Requirement already satisfied: frozenlist>=1.1.1 in /usr/local/lib/python3.10/dist-packages (from aiohttp->openai) (1.4.0)\n",
            "Requirement already satisfied: aiosignal>=1.1.2 in /usr/local/lib/python3.10/dist-packages (from aiohttp->openai) (1.3.1)\n",
            "질문: 운전자가 호흡조사에 응하지 않으면 어떤 처벌을 받을 수 있을까요?\n",
            "답변: 운전자가 호흡조사에 응하지 않으면 결과에 따라 다른 처벌을 받을 수 있습니다. 이는 국가 및 주에 따라 다를 수 있으며, 다음과 같은 일반적인 처벌이 있을 수 있습니다.\n",
            "\n",
            "1. 운전면허 정지: 운전자가 호흡조사에 응하지 않으면 운전면허가 정지될 수 있습니다. 이는 국가 및 경우에 따라 얼마나 정지될지 다를 수 있습니다.\n",
            "\n",
            "2. 벌금: 호흡조사에 응하지 않을 경우 벌금을 부과받을 수 있습니다. 정확한 벌금 액수는 국가 및 주 법령에 따라 다를 수 있습니다.\n",
            "\n",
            "3. 처벌 기록: 운전자의 처벌 기록에 호흡조사 거부로 기록됩니다. 이는 미래에 발생할 수 있는 법적 문제 및 보험 요금 상승 등에 영향을 줄 수 있습니다.\n",
            "\n",
            "4. 운전 교육 프로그램 참석: 호흡조사 거부로 인한 처벌로 운전 교육 프로그램 참석을 강요받을 수 있습니다. 이 프로그램은 운전자의 술에 대한 인식과 도로 안전에 대한 교육을 제공합니다.\n",
            "\n",
            "5. 형사 처벌: 일부 국가에서는 운전자가 호흡조사에 응하지 않을 경우 형사 체포 및 관련된 형사 처벌을 받을 수 있습니다. 이러한 처벌은 운전 중에 음주 운전 행위에 의한 것으로 간주됩니다.\n",
            "\n",
            "상기된 처벌은 일반적인 경우이며, 실제 처벌은 국가와 지역의 법령에 따라 다를 수 있습니다.\n"
          ]
        }
      ]
    }
  ]
}