{
  "nbformat": 4,
  "nbformat_minor": 0,
  "metadata": {
    "colab": {
      "provenance": []
    },
    "kernelspec": {
      "name": "python3",
      "display_name": "Python 3"
    },
    "language_info": {
      "name": "python"
    }
  },
  "cells": [
    {
      "cell_type": "code",
      "source": [
        "import random\n",
        "from sklearn.metrics import precision_score, recall_score, f1_score\n",
        "from nltk.translate.bleu_score import sentence_bleu, SmoothingFunction"
      ],
      "metadata": {
        "id": "QWOUDmKYEkDG"
      },
      "execution_count": 11,
      "outputs": []
    },
    {
      "cell_type": "code",
      "source": [
        "class Node:\n",
        "    def __init__(self, language, words):\n",
        "        self.language = language\n",
        "        self.words = words\n",
        "        self.translations = {}\n",
        "\n",
        "    def add_translation(self, word, translated_word):\n",
        "        self.translations[word] = translated_word"
      ],
      "metadata": {
        "id": "s3pN6omoEr4N"
      },
      "execution_count": 12,
      "outputs": []
    },
    {
      "cell_type": "code",
      "source": [
        "class LangChain:\n",
        "    def __init__(self):\n",
        "        self.nodes = {}\n",
        "\n",
        "    def add_node(self, language, words):\n",
        "        node = Node(language, words)\n",
        "        self.nodes[language] = node\n",
        "\n",
        "    def connect_nodes(self, lang1, lang2, word_pairs):\n",
        "        for word, translated_word in word_pairs:\n",
        "            self.nodes[lang1].add_translation(word, translated_word)\n",
        "            self.nodes[lang2].add_translation(translated_word, word)\n",
        "\n",
        "    def get_translation(self, language, word):\n",
        "        return self.nodes[language].translations.get(word, None)\n",
        "\n",
        "    def evaluate(self, test_data):\n",
        "        predicted_translations = []\n",
        "        true_translations = []\n",
        "\n",
        "        for source_word, true_translation in test_data:\n",
        "            predicted_translation = self.get_translation(\"English\", source_word)\n",
        "            predicted_translations.append(predicted_translation)\n",
        "            true_translations.append(true_translation)\n",
        "\n",
        "        precision = precision_score(true_translations, predicted_translations, average='micro')\n",
        "        recall = recall_score(true_translations, predicted_translations, average='micro')\n",
        "        f1 = f1_score(true_translations, predicted_translations, average='micro')\n",
        "\n",
        "        # SmoothingFunction 적용\n",
        "        smoothie = SmoothingFunction().method4\n",
        "        bleu = sentence_bleu([true_translations], predicted_translations, smoothing_function=smoothie)\n",
        "\n",
        "        return precision, recall, f1, bleu"
      ],
      "metadata": {
        "id": "DD0mPwDrEWLr"
      },
      "execution_count": 13,
      "outputs": []
    },
    {
      "cell_type": "code",
      "source": [
        "# 예시 사용법\n",
        "chain = LangChain()\n",
        "chain.add_node(\"English\", [\"apple\", \"book\", \"cat\"])\n",
        "chain.add_node(\"Korean\", [\"사과\", \"책\", \"고양이\"])\n",
        "\n",
        "word_pairs = [(\"apple\", \"사과\"), (\"book\", \"책\"), (\"cat\", \"고양이\")]\n",
        "chain.connect_nodes(\"English\", \"Korean\", word_pairs)\n",
        "\n",
        "# 테스트 데이터셋 (예시로 동일한 데이터셋을 사용)\n",
        "test_data = [(\"apple\", \"사과\"), (\"book\", \"책\"), (\"cat\", \"고양이\")]\n",
        "\n",
        "precision, recall, f1, bleu = chain.evaluate(test_data)\n",
        "print(f\"Precision: {precision:.2f}\")\n",
        "print(f\"Recall: {recall:.2f}\")\n",
        "print(f\"F1-Score: {f1:.2f}\")\n",
        "print(f\"BLEU Score: {bleu:.2f}\")"
      ],
      "metadata": {
        "colab": {
          "base_uri": "https://localhost:8080/"
        },
        "id": "K33m0dU5EY2z",
        "outputId": "55ec663a-3037-4d00-ebd8-7566c3f3bd01"
      },
      "execution_count": 14,
      "outputs": [
        {
          "output_type": "stream",
          "name": "stdout",
          "text": [
            "Precision: 1.00\n",
            "Recall: 1.00\n",
            "F1-Score: 1.00\n",
            "BLEU Score: 0.58\n"
          ]
        }
      ]
    }
  ]
}
